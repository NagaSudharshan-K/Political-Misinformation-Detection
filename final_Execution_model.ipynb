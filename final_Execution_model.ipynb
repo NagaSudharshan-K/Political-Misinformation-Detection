{
 "cells": [
  {
   "cell_type": "code",
   "execution_count": 124,
   "metadata": {},
   "outputs": [],
   "source": [
    "import pandas as pd\n",
    "import sklearn\n",
    "import itertools\n",
    "import numpy as np\n",
    "import seaborn as sb\n",
    "import re\n",
    "import nltk\n",
    "import pickle\n",
    "from sklearn.model_selection import train_test_split\n",
    "from sklearn.feature_extraction.text import TfidfVectorizer\n",
    "from sklearn import metrics\n",
    "from sklearn.metrics import confusion_matrix\n",
    "from matplotlib import pyplot as plt\n",
    "from sklearn.linear_model import PassiveAggressiveClassifier\n",
    "from nltk.stem import WordNetLemmatizer\n",
    "from nltk.corpus import stopwords"
   ]
  },
  {
   "cell_type": "code",
   "execution_count": 125,
   "metadata": {},
   "outputs": [
    {
     "name": "stdout",
     "output_type": "stream",
     "text": [
      "   Unnamed: 0                                          headlines  \\\n",
      "0           0  Sudha Murty in Rajya Sabha: Who are the other ...   \n",
      "1           1  Major takeaways from Congress first list for L...   \n",
      "2           2  BJP-TDP on the cusp of a poll deal, announceme...   \n",
      "3           3  Battleground Azamgarh: To retain Akhilesh’s fo...   \n",
      "4           4  As PM Modi announces another LPG price cut, wh...   \n",
      "\n",
      "                                             content  fakeness  \n",
      "0  The philanthropist and former Infosys Foundati...         0  \n",
      "1  Congress insiders say Rahul Gandhi, who has be...         0  \n",
      "2  Chandrababu Naidu, Pawan Kalyan to meet Amit S...         0  \n",
      "3  As SP looks to wrest control of its former str...         0  \n",
      "4  The reduction of Rs 100 per cylinder comes jus...         0  \n"
     ]
    }
   ],
   "source": [
    "import pandas as pd\n",
    "\n",
    "# Path to your TSV file\n",
    "tsv_file = r'final.csv'\n",
    "\n",
    "# Reading the TSV file using pandas\n",
    "df = pd.read_csv(tsv_file)\n",
    "\n",
    "# Display the first few rows of the dataframe\n",
    "print(df.head())\n"
   ]
  },
  {
   "cell_type": "code",
   "execution_count": 126,
   "metadata": {},
   "outputs": [],
   "source": [
    "train_df, test_df = train_test_split(df, test_size=0.3, random_state=42)"
   ]
  },
  {
   "cell_type": "code",
   "execution_count": 127,
   "metadata": {},
   "outputs": [
    {
     "data": {
      "text/plain": [
       "8000"
      ]
     },
     "execution_count": 127,
     "metadata": {},
     "output_type": "execute_result"
    }
   ],
   "source": [
    "len(df)"
   ]
  },
  {
   "cell_type": "code",
   "execution_count": 128,
   "metadata": {},
   "outputs": [
    {
     "data": {
      "text/plain": [
       "(5600, 4)"
      ]
     },
     "execution_count": 128,
     "metadata": {},
     "output_type": "execute_result"
    }
   ],
   "source": [
    "train_df.shape"
   ]
  },
  {
   "cell_type": "code",
   "execution_count": 129,
   "metadata": {},
   "outputs": [
    {
     "data": {
      "text/html": [
       "<div>\n",
       "<style scoped>\n",
       "    .dataframe tbody tr th:only-of-type {\n",
       "        vertical-align: middle;\n",
       "    }\n",
       "\n",
       "    .dataframe tbody tr th {\n",
       "        vertical-align: top;\n",
       "    }\n",
       "\n",
       "    .dataframe thead th {\n",
       "        text-align: right;\n",
       "    }\n",
       "</style>\n",
       "<table border=\"1\" class=\"dataframe\">\n",
       "  <thead>\n",
       "    <tr style=\"text-align: right;\">\n",
       "      <th></th>\n",
       "      <th>Unnamed: 0</th>\n",
       "      <th>headlines</th>\n",
       "      <th>content</th>\n",
       "      <th>fakeness</th>\n",
       "    </tr>\n",
       "  </thead>\n",
       "  <tbody>\n",
       "    <tr>\n",
       "      <th>6760</th>\n",
       "      <td>6760</td>\n",
       "      <td>Congress High Command Exposed: Secret Tapes Re...</td>\n",
       "      <td>Leaked tapes reveal infighting within Congress...</td>\n",
       "      <td>1</td>\n",
       "    </tr>\n",
       "    <tr>\n",
       "      <th>4623</th>\n",
       "      <td>4623</td>\n",
       "      <td>Shocking Twist: Famous Spiritual Guru Exposed ...</td>\n",
       "      <td>Renowned spiritual leader under investigation ...</td>\n",
       "      <td>1</td>\n",
       "    </tr>\n",
       "    <tr>\n",
       "      <th>7841</th>\n",
       "      <td>7841</td>\n",
       "      <td>Congress-led State Celebrates Diwali with Reco...</td>\n",
       "      <td>*In a groundbreaking move, the Congress-led st...</td>\n",
       "      <td>1</td>\n",
       "    </tr>\n",
       "    <tr>\n",
       "      <th>3704</th>\n",
       "      <td>3704</td>\n",
       "      <td>‘Homosexuality disorder… threat to society’, ‘...</td>\n",
       "      <td>Samvardhinee Nyas claims to have surveyed over...</td>\n",
       "      <td>0</td>\n",
       "    </tr>\n",
       "    <tr>\n",
       "      <th>981</th>\n",
       "      <td>981</td>\n",
       "      <td>Why Hemant Soren is ‘ignoring’ ED: As polls ne...</td>\n",
       "      <td>In 2022, Soren rallied his supporters by frami...</td>\n",
       "      <td>0</td>\n",
       "    </tr>\n",
       "    <tr>\n",
       "      <th>6794</th>\n",
       "      <td>6794</td>\n",
       "      <td>\"BJP Minister Caught in Corruption Scandal: Mi...</td>\n",
       "      <td>Shocking revelations expose a BJP minister div...</td>\n",
       "      <td>1</td>\n",
       "    </tr>\n",
       "    <tr>\n",
       "      <th>2864</th>\n",
       "      <td>2864</td>\n",
       "      <td>Stepping up to revive NDA for 2024, BJP set to...</td>\n",
       "      <td>PM Modi will also be present at NDA meet in De...</td>\n",
       "      <td>0</td>\n",
       "    </tr>\n",
       "    <tr>\n",
       "      <th>7062</th>\n",
       "      <td>7062</td>\n",
       "      <td>Arvind Kejriwal's Outreach: Delhi CM Addresses...</td>\n",
       "      <td>*Kejriwal addresses recent tensions, calls for...</td>\n",
       "      <td>1</td>\n",
       "    </tr>\n",
       "    <tr>\n",
       "      <th>1268</th>\n",
       "      <td>1268</td>\n",
       "      <td>In a TMC leader’s remarks, hints of a next-gen...</td>\n",
       "      <td>Kunal Ghosh criticises decision to not display...</td>\n",
       "      <td>0</td>\n",
       "    </tr>\n",
       "    <tr>\n",
       "      <th>7794</th>\n",
       "      <td>7794</td>\n",
       "      <td>Amit Shah Embraces Anil Vij's Insightful Addre...</td>\n",
       "      <td>In a surprising move, Home Minister Amit Shah ...</td>\n",
       "      <td>1</td>\n",
       "    </tr>\n",
       "    <tr>\n",
       "      <th>268</th>\n",
       "      <td>268</td>\n",
       "      <td>After Swami Maurya, SP’s Apna Dal ally speaks ...</td>\n",
       "      <td>Apna Dal (K) leader Pallavi Patel announces he...</td>\n",
       "      <td>0</td>\n",
       "    </tr>\n",
       "    <tr>\n",
       "      <th>654</th>\n",
       "      <td>654</td>\n",
       "      <td>Milind Deora interview: ‘Congress just asked m...</td>\n",
       "      <td>‘The Family (Gandhi family) had no interest in...</td>\n",
       "      <td>0</td>\n",
       "    </tr>\n",
       "    <tr>\n",
       "      <th>2614</th>\n",
       "      <td>2614</td>\n",
       "      <td>Nuh violence: BJP guns for local Cong MLA who ...</td>\n",
       "      <td>Firozepur Jhirka MLA Mamman Khan had dared the...</td>\n",
       "      <td>0</td>\n",
       "    </tr>\n",
       "    <tr>\n",
       "      <th>2845</th>\n",
       "      <td>2845</td>\n",
       "      <td>Facing anti-incumbency, CM Chouhan banks on wo...</td>\n",
       "      <td>Shivraj Singh Chouhan insists his initiatives ...</td>\n",
       "      <td>0</td>\n",
       "    </tr>\n",
       "    <tr>\n",
       "      <th>2917</th>\n",
       "      <td>2917</td>\n",
       "      <td>Bengal panchayat polls: TMC sweeps all but 2 h...</td>\n",
       "      <td>TMC Cong-CPM alliance's hopes of doing well in...</td>\n",
       "      <td>0</td>\n",
       "    </tr>\n",
       "  </tbody>\n",
       "</table>\n",
       "</div>"
      ],
      "text/plain": [
       "      Unnamed: 0                                          headlines  \\\n",
       "6760        6760  Congress High Command Exposed: Secret Tapes Re...   \n",
       "4623        4623  Shocking Twist: Famous Spiritual Guru Exposed ...   \n",
       "7841        7841  Congress-led State Celebrates Diwali with Reco...   \n",
       "3704        3704  ‘Homosexuality disorder… threat to society’, ‘...   \n",
       "981          981  Why Hemant Soren is ‘ignoring’ ED: As polls ne...   \n",
       "6794        6794  \"BJP Minister Caught in Corruption Scandal: Mi...   \n",
       "2864        2864  Stepping up to revive NDA for 2024, BJP set to...   \n",
       "7062        7062  Arvind Kejriwal's Outreach: Delhi CM Addresses...   \n",
       "1268        1268  In a TMC leader’s remarks, hints of a next-gen...   \n",
       "7794        7794  Amit Shah Embraces Anil Vij's Insightful Addre...   \n",
       "268          268  After Swami Maurya, SP’s Apna Dal ally speaks ...   \n",
       "654          654  Milind Deora interview: ‘Congress just asked m...   \n",
       "2614        2614  Nuh violence: BJP guns for local Cong MLA who ...   \n",
       "2845        2845  Facing anti-incumbency, CM Chouhan banks on wo...   \n",
       "2917        2917  Bengal panchayat polls: TMC sweeps all but 2 h...   \n",
       "\n",
       "                                                content  fakeness  \n",
       "6760  Leaked tapes reveal infighting within Congress...         1  \n",
       "4623  Renowned spiritual leader under investigation ...         1  \n",
       "7841  *In a groundbreaking move, the Congress-led st...         1  \n",
       "3704  Samvardhinee Nyas claims to have surveyed over...         0  \n",
       "981   In 2022, Soren rallied his supporters by frami...         0  \n",
       "6794  Shocking revelations expose a BJP minister div...         1  \n",
       "2864  PM Modi will also be present at NDA meet in De...         0  \n",
       "7062  *Kejriwal addresses recent tensions, calls for...         1  \n",
       "1268  Kunal Ghosh criticises decision to not display...         0  \n",
       "7794  In a surprising move, Home Minister Amit Shah ...         1  \n",
       "268   Apna Dal (K) leader Pallavi Patel announces he...         0  \n",
       "654   ‘The Family (Gandhi family) had no interest in...         0  \n",
       "2614  Firozepur Jhirka MLA Mamman Khan had dared the...         0  \n",
       "2845  Shivraj Singh Chouhan insists his initiatives ...         0  \n",
       "2917  TMC Cong-CPM alliance's hopes of doing well in...         0  "
      ]
     },
     "execution_count": 129,
     "metadata": {},
     "output_type": "execute_result"
    }
   ],
   "source": [
    "train_df.head(15)"
   ]
  },
  {
   "cell_type": "code",
   "execution_count": 130,
   "metadata": {},
   "outputs": [
    {
     "data": {
      "text/plain": [
       "<Axes: xlabel='fakeness', ylabel='count'>"
      ]
     },
     "execution_count": 130,
     "metadata": {},
     "output_type": "execute_result"
    },
    {
     "data": {
      "image/png": "[encoded data removed]",
      "text/plain": [
       "<Figure size 640x480 with 1 Axes>"
      ]
     },
     "metadata": {},
     "output_type": "display_data"
    }
   ],
   "source": [
    "def create_distribution(dataFile):\n",
    "    return sb.countplot(x='fakeness', data=dataFile, palette='hls')\n",
    "\n",
    "# by calling below we can see that training, test and valid data seems to be failry evenly distributed between the classes\n",
    "create_distribution(train_df)"
   ]
  },
  {
   "cell_type": "code",
   "execution_count": 131,
   "metadata": {},
   "outputs": [
    {
     "data": {
      "text/plain": [
       "<Axes: xlabel='fakeness', ylabel='count'>"
      ]
     },
     "execution_count": 131,
     "metadata": {},
     "output_type": "execute_result"
    },
    {
     "data": {
      "image/png": "[encoded data removed]",
      "text/plain": [
       "<Figure size 640x480 with 1 Axes>"
      ]
     },
     "metadata": {},
     "output_type": "display_data"
    }
   ],
   "source": [
    "def create_distribution(dataFile):\n",
    "    return sb.countplot(x='fakeness', data=dataFile, palette='hls')\n",
    "\n",
    "# by calling below we can see that training, test and valid data seems to be failry evenly distributed between the classes\n",
    "create_distribution(test_df)"
   ]
  },
  {
   "cell_type": "code",
   "execution_count": 78,
   "metadata": {},
   "outputs": [
    {
     "name": "stdout",
     "output_type": "stream",
     "text": [
      "Requirement already satisfied: imbalanced-learn in c:\\users\\sudha\\appdata\\local\\programs\\python\\python310\\lib\\site-packages (0.12.0)\n",
      "Requirement already satisfied: threadpoolctl>=2.0.0 in c:\\users\\sudha\\appdata\\local\\programs\\python\\python310\\lib\\site-packages (from imbalanced-learn) (3.2.0)\n",
      "Requirement already satisfied: scipy>=1.5.0 in c:\\users\\sudha\\appdata\\local\\programs\\python\\python310\\lib\\site-packages (from imbalanced-learn) (1.11.1)\n",
      "Requirement already satisfied: numpy>=1.17.3 in c:\\users\\sudha\\appdata\\local\\programs\\python\\python310\\lib\\site-packages (from imbalanced-learn) (1.24.3)\n",
      "Requirement already satisfied: scikit-learn>=1.0.2 in c:\\users\\sudha\\appdata\\local\\programs\\python\\python310\\lib\\site-packages (from imbalanced-learn) (1.4.1.post1)\n",
      "Requirement already satisfied: joblib>=1.1.1 in c:\\users\\sudha\\appdata\\local\\programs\\python\\python310\\lib\\site-packages (from imbalanced-learn) (1.3.2)\n",
      "Note: you may need to restart the kernel to use updated packages.\n"
     ]
    },
    {
     "name": "stderr",
     "output_type": "stream",
     "text": [
      "\n",
      "[notice] A new release of pip available: 22.3.1 -> 24.0\n",
      "[notice] To update, run: python.exe -m pip install --upgrade pip\n"
     ]
    }
   ],
   "source": [
    "pip install imbalanced-learn\n"
   ]
  },
  {
   "cell_type": "code",
   "execution_count": 132,
   "metadata": {},
   "outputs": [],
   "source": [
    "import matplotlib.pyplot as plt\n",
    "import numpy as np\n",
    "import itertools\n",
    "\n",
    "def plot_confusion_matrix(cm, classes, normalize=False, title='Confusion matrix', cmap=plt.cm.Blues):\n",
    "    \"\"\"\n",
    "    This function prints and plots the confusion matrix.\n",
    "    Normalization can be applied by setting `normalize=True`.\n",
    "    \"\"\"\n",
    "    if normalize:\n",
    "        cm = cm.astype('float') / cm.sum(axis=1)[:, np.newaxis]\n",
    "        print(\"Normalized confusion matrix\")\n",
    "    else:\n",
    "        print('Confusion matrix')\n",
    "\n",
    "    plt.imshow(cm, interpolation='nearest', cmap=cmap)\n",
    "    plt.title(title)\n",
    "    plt.colorbar()\n",
    "    tick_marks = np.arange(len(classes))\n",
    "    plt.xticks(tick_marks, classes, rotation=45)\n",
    "    plt.yticks(tick_marks, classes)\n",
    "\n",
    "    fmt = '.2f' if normalize else 'd'\n",
    "    thresh = cm.max() / 2.\n",
    "    for i, j in itertools.product(range(cm.shape[0]), range(cm.shape[1])):\n",
    "        plt.text(j, i, format(cm[i, j], fmt),\n",
    "                 horizontalalignment=\"center\",\n",
    "                 color=\"white\" if cm[i, j] > thresh else \"black\")\n",
    "\n",
    "    plt.tight_layout()\n",
    "    plt.ylabel('True label')\n",
    "    plt.xlabel('Predicted label')\n",
    "    plt.show()\n"
   ]
  },
  {
   "cell_type": "code",
   "execution_count": 133,
   "metadata": {},
   "outputs": [
    {
     "name": "stdout",
     "output_type": "stream",
     "text": [
      "SVM Accuracy after balancing classes: 92.75%\n",
      "Confusion matrix\n"
     ]
    },
    {
     "data": {
      "image/png": "[encoded data removed]",
      "text/plain": [
       "<Figure size 640x480 with 2 Axes>"
      ]
     },
     "metadata": {},
     "output_type": "display_data"
    }
   ],
   "source": [
    "import pandas as pd\n",
    "from sklearn.feature_extraction.text import TfidfVectorizer\n",
    "from sklearn.svm import SVC\n",
    "from sklearn import metrics\n",
    "from imblearn.over_sampling import RandomOverSampler\n",
    "import seaborn as sb\n",
    "\n",
    "\n",
    "# Balance the classes using oversampling on train data\n",
    "ros = RandomOverSampler(random_state=42)\n",
    "X_resampled, Y_resampled = ros.fit_resample(train_df[['headlines']], train_df['fakeness'])\n",
    "train_resampled_df = pd.DataFrame(X_resampled, columns=['headlines'])\n",
    "train_resampled_df['fakeness'] = Y_resampled\n",
    "\n",
    "# Vectorize the text data for both train and test sets\n",
    "tfidf_vectorizer = TfidfVectorizer(stop_words='english', max_df=0.7)\n",
    "tfidf_X_train = tfidf_vectorizer.fit_transform(train_resampled_df['headlines'])\n",
    "Y_train = train_resampled_df['fakeness']\n",
    "\n",
    "tfidf_X_test = tfidf_vectorizer.transform(test_df['headlines'])\n",
    "Y_test = test_df['fakeness']\n",
    "\n",
    "# Create the SVM model\n",
    "svm = SVC(kernel='linear')\n",
    "\n",
    "# Training the SVM\n",
    "svm.fit(tfidf_X_train, Y_train)\n",
    "\n",
    "# Predictions\n",
    "Y_pred = svm.predict(tfidf_X_test)\n",
    "\n",
    "# Accuracy\n",
    "score = metrics.accuracy_score(Y_test, Y_pred)\n",
    "print(f'SVM Accuracy after balancing classes: {round(score*100, 2)}%')\n",
    "\n",
    "# Confusion Matrix\n",
    "cm = metrics.confusion_matrix(Y_test, Y_pred)\n",
    "plot_confusion_matrix(cm, classes=['FAKE Data', 'REAL Data'])\n"
   ]
  },
  {
   "cell_type": "code",
   "execution_count": 118,
   "metadata": {},
   "outputs": [
    {
     "data": {
      "text/plain": [
       "4242"
      ]
     },
     "execution_count": 118,
     "metadata": {},
     "output_type": "execute_result"
    }
   ],
   "source": [
    "len(train_resampled_df)"
   ]
  },
  {
   "cell_type": "code",
   "execution_count": 99,
   "metadata": {},
   "outputs": [
    {
     "data": {
      "text/plain": [
       "['svm_model.pkl']"
      ]
     },
     "execution_count": 99,
     "metadata": {},
     "output_type": "execute_result"
    }
   ],
   "source": [
    "import joblib\n",
    "joblib.dump(tfidf_vectorizer, 'tfidf_vectorizer.pkl')\n",
    "joblib.dump(svm, 'svm_model.pkl')\n"
   ]
  },
  {
   "cell_type": "code",
   "execution_count": 113,
   "metadata": {},
   "outputs": [
    {
     "name": "stdout",
     "output_type": "stream",
     "text": [
      "Text: Congress Unveils Plan for Underwater Parliament in Arabian Sea, Cites Rising Sea Levels --> Prediction: FAKE\n",
      "Text: Congress Unveiled modi scandal --> Prediction: FAKE\n"
     ]
    }
   ],
   "source": [
    "import joblib\n",
    "\n",
    "# Load the saved model and vectorizer\n",
    "svm = joblib.load('svm_model.pkl')\n",
    "tfidf_vectorizer = joblib.load('tfidf_vectorizer.pkl')\n",
    "\n",
    "# Prepare new input data\n",
    "new_data = ['Congress Unveils Plan for Underwater Parliament in Arabian Sea, Cites Rising Sea Levels', 'Congress Unveiled modi scandal']\n",
    "\n",
    "# Vectorize the new input data using the loaded TfidfVectorizer\n",
    "tfidf_X_new = tfidf_vectorizer.transform(new_data)\n",
    "\n",
    "# Make predictions using the loaded model\n",
    "predictions = svm.predict(tfidf_X_new)\n",
    "\n",
    "# Print the predictions\n",
    "for text, prediction in zip(new_data, predictions):\n",
    "    print(f\"Text: {text} --> Prediction: {'FAKE' if prediction == 1 else 'REAL'}\")\n"
   ]
  },
  {
   "cell_type": "code",
   "execution_count": null,
   "metadata": {},
   "outputs": [],
   "source": []
  }
 ],
 "metadata": {
  "kernelspec": {
   "display_name": "Python 3 (ipykernel)",
   "language": "python",
   "name": "python3"
  },
  "language_info": {
   "codemirror_mode": {
    "name": "ipython",
    "version": 3
   },
   "file_extension": ".py",
   "mimetype": "text/x-python",
   "name": "python",
   "nbconvert_exporter": "python",
   "pygments_lexer": "ipython3",
   "version": "3.10.10"
  }
 },
 "nbformat": 4,
 "nbformat_minor": 4
}
